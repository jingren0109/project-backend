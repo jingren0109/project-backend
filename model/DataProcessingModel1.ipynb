{
 "cells": [
  {
   "cell_type": "markdown",
   "source": [
    "The training process involved three different models trained on different subsets of the loan data. The first model was trained on the original loan data, excluding the new metric columns and joint application data. The second and third models were trained on the same data as the first model, but included the new metric columns and joint application data as one-hot encoded features.\n",
    "\n",
    "All three models used a similar neural network architecture with three hidden layers of varying sizes and 30% dropout regularization after each layer. The models were trained using the mean squared logarithmic error loss function and the Adam optimizer.\n",
    "\n",
    "The first model was trained for 10 epochs with a batch size of 128, while the second and third models were trained for 10 epochs with batch sizes of 64 and 32, respectively. The third model was the final model used for prediction and was trained on the entire dataset without validation.\n",
    "\n",
    "The trained model was saved in a file named \"loan_risk_model\", and the data transformer used to preprocess the data was saved in a file named \"data_transformer.joblib\"."
   ],
   "metadata": {
    "collapsed": false
   }
  },
  {
   "cell_type": "markdown",
   "source": [
    "The DataFrame contains 2,260,701 observations and each observation has 151 variables."
   ],
   "metadata": {
    "collapsed": false
   }
  },
  {
   "cell_type": "code",
   "execution_count": 5,
   "outputs": [
    {
     "data": {
      "text/plain": "(2260701, 151)"
     },
     "execution_count": 5,
     "metadata": {},
     "output_type": "execute_result"
    }
   ],
   "source": [
    "import pandas as pd\n",
    "data_row = pd.read_csv(\n",
    "  \"./accepted_2007_to_2018Q4.csv\",\n",
    "  low_memory=False,\n",
    ")\n",
    "\n",
    "data_row.shape"
   ],
   "metadata": {
    "collapsed": false
   }
  },
  {
   "cell_type": "code",
   "execution_count": 6,
   "outputs": [
    {
     "data": {
      "text/plain": "         id  member_id  loan_amnt  funded_amnt  funded_amnt_inv        term   \n0  68407277        NaN     3600.0       3600.0           3600.0   36 months  \\\n1  68355089        NaN    24700.0      24700.0          24700.0   36 months   \n2  68341763        NaN    20000.0      20000.0          20000.0   60 months   \n\n   int_rate  installment grade sub_grade  ... hardship_payoff_balance_amount   \n0     13.99       123.03     C        C4  ...                            NaN  \\\n1     11.99       820.28     C        C1  ...                            NaN   \n2     10.78       432.66     B        B4  ...                            NaN   \n\n  hardship_last_payment_amount disbursement_method  debt_settlement_flag   \n0                          NaN                Cash                     N  \\\n1                          NaN                Cash                     N   \n2                          NaN                Cash                     N   \n\n  debt_settlement_flag_date settlement_status settlement_date   \n0                       NaN               NaN             NaN  \\\n1                       NaN               NaN             NaN   \n2                       NaN               NaN             NaN   \n\n  settlement_amount settlement_percentage settlement_term  \n0               NaN                   NaN             NaN  \n1               NaN                   NaN             NaN  \n2               NaN                   NaN             NaN  \n\n[3 rows x 151 columns]",
      "text/html": "<div>\n<style scoped>\n    .dataframe tbody tr th:only-of-type {\n        vertical-align: middle;\n    }\n\n    .dataframe tbody tr th {\n        vertical-align: top;\n    }\n\n    .dataframe thead th {\n        text-align: right;\n    }\n</style>\n<table border=\"1\" class=\"dataframe\">\n  <thead>\n    <tr style=\"text-align: right;\">\n      <th></th>\n      <th>id</th>\n      <th>member_id</th>\n      <th>loan_amnt</th>\n      <th>funded_amnt</th>\n      <th>funded_amnt_inv</th>\n      <th>term</th>\n      <th>int_rate</th>\n      <th>installment</th>\n      <th>grade</th>\n      <th>sub_grade</th>\n      <th>...</th>\n      <th>hardship_payoff_balance_amount</th>\n      <th>hardship_last_payment_amount</th>\n      <th>disbursement_method</th>\n      <th>debt_settlement_flag</th>\n      <th>debt_settlement_flag_date</th>\n      <th>settlement_status</th>\n      <th>settlement_date</th>\n      <th>settlement_amount</th>\n      <th>settlement_percentage</th>\n      <th>settlement_term</th>\n    </tr>\n  </thead>\n  <tbody>\n    <tr>\n      <th>0</th>\n      <td>68407277</td>\n      <td>NaN</td>\n      <td>3600.0</td>\n      <td>3600.0</td>\n      <td>3600.0</td>\n      <td>36 months</td>\n      <td>13.99</td>\n      <td>123.03</td>\n      <td>C</td>\n      <td>C4</td>\n      <td>...</td>\n      <td>NaN</td>\n      <td>NaN</td>\n      <td>Cash</td>\n      <td>N</td>\n      <td>NaN</td>\n      <td>NaN</td>\n      <td>NaN</td>\n      <td>NaN</td>\n      <td>NaN</td>\n      <td>NaN</td>\n    </tr>\n    <tr>\n      <th>1</th>\n      <td>68355089</td>\n      <td>NaN</td>\n      <td>24700.0</td>\n      <td>24700.0</td>\n      <td>24700.0</td>\n      <td>36 months</td>\n      <td>11.99</td>\n      <td>820.28</td>\n      <td>C</td>\n      <td>C1</td>\n      <td>...</td>\n      <td>NaN</td>\n      <td>NaN</td>\n      <td>Cash</td>\n      <td>N</td>\n      <td>NaN</td>\n      <td>NaN</td>\n      <td>NaN</td>\n      <td>NaN</td>\n      <td>NaN</td>\n      <td>NaN</td>\n    </tr>\n    <tr>\n      <th>2</th>\n      <td>68341763</td>\n      <td>NaN</td>\n      <td>20000.0</td>\n      <td>20000.0</td>\n      <td>20000.0</td>\n      <td>60 months</td>\n      <td>10.78</td>\n      <td>432.66</td>\n      <td>B</td>\n      <td>B4</td>\n      <td>...</td>\n      <td>NaN</td>\n      <td>NaN</td>\n      <td>Cash</td>\n      <td>N</td>\n      <td>NaN</td>\n      <td>NaN</td>\n      <td>NaN</td>\n      <td>NaN</td>\n      <td>NaN</td>\n      <td>NaN</td>\n    </tr>\n  </tbody>\n</table>\n<p>3 rows × 151 columns</p>\n</div>"
     },
     "execution_count": 6,
     "metadata": {},
     "output_type": "execute_result"
    }
   ],
   "source": [
    "data_row.head(3)"
   ],
   "metadata": {
    "collapsed": false
   }
  },
  {
   "cell_type": "code",
   "execution_count": 7,
   "outputs": [],
   "source": [
    "# Total percentage of null values in the data\n",
    "# (data_row.isnull().sum().sum())/(data_row.shape[0]*data_row.shape[1])"
   ],
   "metadata": {
    "collapsed": false
   }
  },
  {
   "cell_type": "markdown",
   "source": [
    "This code reads in the LCDataDictionary.xlsx file, which is a data dictionary that provides descriptions for each of the variables in the LendingClub loan dataset.\n",
    "This is a helpful way to understand what each variable represents in the dataset."
   ],
   "metadata": {
    "collapsed": false
   }
  },
  {
   "cell_type": "code",
   "execution_count": 9,
   "outputs": [
    {
     "name": "stdout",
     "output_type": "stream",
     "text": [
      "•id: A unique LC assigned ID for the loan listing.\n",
      "•member_id: A unique LC assigned Id for the borrower member.\n",
      "•loan_amnt: The listed amount of the loan applied for by the borrower. If at some point in time, the credit department reduces the loan amount, then it will be reflected in this value.\n",
      "•funded_amnt: The total amount committed to that loan at that point in time.\n",
      "•funded_amnt_inv: The total amount committed by investors for that loan at that point in time.\n",
      "•term: The number of payments on the loan. Values are in months and can be either 36 or 60.\n",
      "•int_rate: Interest Rate on the loan\n",
      "•installment: The monthly payment owed by the borrower if the loan originates.\n",
      "•grade: LC assigned loan grade\n",
      "•sub_grade: LC assigned loan subgrade\n",
      "•emp_title: The job title supplied by the Borrower when applying for the loan.*\n",
      "•emp_length: Employment length in years. Possible values are between 0 and 10 where 0 means less than one year and 10 means ten or more years.\n",
      "•home_ownership: The home ownership status provided by the borrower during registration or obtained from the credit report. Our values are: RENT, OWN, MORTGAGE, OTHER\n",
      "•annual_inc: The self-reported annual income provided by the borrower during registration.\n",
      "•verification_status: Indicates if income was verified by LC, not verified, or if the income source was verified\n",
      "•issue_d: The month which the loan was funded\n",
      "•loan_status: Current status of the loan\n",
      "•pymnt_plan: Indicates if a payment plan has been put in place for the loan\n",
      "•url: URL for the LC page with listing data.\n",
      "•desc: Loan description provided by the borrower\n",
      "•purpose: A category provided by the borrower for the loan request.\n",
      "•title: The loan title provided by the borrower\n",
      "•zip_code: The first 3 numbers of the zip code provided by the borrower in the loan application.\n",
      "•addr_state: The state provided by the borrower in the loan application\n",
      "•dti: A ratio calculated using the borrower’s total monthly debt payments on the total debt obligations, excluding mortgage and the requested LC loan, divided by the borrower’s self-reported monthly income.\n",
      "•delinq_2yrs: The number of 30+ days past-due incidences of delinquency in the borrower's credit file for the past 2 years\n",
      "•earliest_cr_line: The month the borrower's earliest reported credit line was opened\n",
      "•fico_range_low: The lower boundary range the borrower’s FICO at loan origination belongs to.\n",
      "•fico_range_high: The upper boundary range the borrower’s FICO at loan origination belongs to.\n",
      "•inq_last_6mths: The number of inquiries in past 6 months (excluding auto and mortgage inquiries)\n",
      "•mths_since_last_delinq: The number of months since the borrower's last delinquency.\n",
      "•mths_since_last_record: The number of months since the last public record.\n",
      "•open_acc: The number of open credit lines in the borrower's credit file.\n",
      "•pub_rec: Number of derogatory public records\n",
      "•revol_bal: Total credit revolving balance\n",
      "•revol_util: Revolving line utilization rate, or the amount of credit the borrower is using relative to all available revolving credit.\n",
      "•total_acc: The total number of credit lines currently in the borrower's credit file\n",
      "•initial_list_status: The initial listing status of the loan. Possible values are – W, F\n",
      "•out_prncp: Remaining outstanding principal for total amount funded\n",
      "•out_prncp_inv: Remaining outstanding principal for portion of total amount funded by investors\n",
      "•total_pymnt: Payments received to date for total amount funded\n",
      "•total_pymnt_inv: Payments received to date for portion of total amount funded by investors\n",
      "•total_rec_prncp: Principal received to date\n",
      "•total_rec_int: Interest received to date\n",
      "•total_rec_late_fee: Late fees received to date\n",
      "•recoveries: post charge off gross recovery\n",
      "•collection_recovery_fee: post charge off collection fee\n",
      "•last_pymnt_d: Last month payment was received\n",
      "•last_pymnt_amnt: Last total payment amount received\n",
      "•next_pymnt_d: Next scheduled payment date\n",
      "•last_credit_pull_d: The most recent month LC pulled credit for this loan\n",
      "•last_fico_range_high: The upper boundary range the borrower’s last FICO pulled belongs to.\n",
      "•last_fico_range_low: The lower boundary range the borrower’s last FICO pulled belongs to.\n",
      "•collections_12_mths_ex_med: Number of collections in 12 months excluding medical collections\n",
      "•mths_since_last_major_derog: Months since most recent 90-day or worse rating\n",
      "•policy_code: publicly available policy_code=1\n",
      "new products not publicly available policy_code=2\n",
      "•application_type: Indicates whether the loan is an individual application or a joint application with two co-borrowers\n",
      "•annual_inc_joint: The combined self-reported annual income provided by the co-borrowers during registration\n",
      "•dti_joint: A ratio calculated using the co-borrowers' total monthly payments on the total debt obligations, excluding mortgages and the requested LC loan, divided by the co-borrowers' combined self-reported monthly income\n",
      "•verification_status_joint: Indicates if the co-borrowers' joint income was verified by LC, not verified, or if the income source was verified\n",
      "•acc_now_delinq: The number of accounts on which the borrower is now delinquent.\n",
      "•tot_coll_amt: Total collection amounts ever owed\n",
      "•tot_cur_bal: Total current balance of all accounts\n",
      "•open_acc_6m: Number of open trades in last 6 months\n",
      "•open_act_il: Number of currently active installment trades\n",
      "•open_il_12m: Number of installment accounts opened in past 12 months\n",
      "•open_il_24m: Number of installment accounts opened in past 24 months\n",
      "•mths_since_rcnt_il: Months since most recent installment accounts opened\n",
      "•total_bal_il: Total current balance of all installment accounts\n",
      "•il_util: Ratio of total current balance to high credit/credit limit on all install acct\n",
      "•open_rv_12m: Number of revolving trades opened in past 12 months\n",
      "•open_rv_24m: Number of revolving trades opened in past 24 months\n",
      "•max_bal_bc: Maximum current balance owed on all revolving accounts\n",
      "•all_util: Balance to credit limit on all trades\n",
      "•total_rev_hi_lim: Total revolving high credit/credit limit\n",
      "•inq_fi: Number of personal finance inquiries\n",
      "•total_cu_tl: Number of finance trades\n",
      "•inq_last_12m: Number of credit inquiries in past 12 months\n",
      "•acc_open_past_24mths: Number of trades opened in past 24 months.\n",
      "•avg_cur_bal: Average current balance of all accounts\n",
      "•bc_open_to_buy: Total open to buy on revolving bankcards.\n",
      "•bc_util: Ratio of total current balance to high credit/credit limit for all bankcard accounts.\n",
      "•chargeoff_within_12_mths: Number of charge-offs within 12 months\n",
      "•delinq_amnt: The past-due amount owed for the accounts on which the borrower is now delinquent.\n",
      "•mo_sin_old_il_acct: Months since oldest bank installment account opened\n",
      "•mo_sin_old_rev_tl_op: Months since oldest revolving account opened\n",
      "•mo_sin_rcnt_rev_tl_op: Months since most recent revolving account opened\n",
      "•mo_sin_rcnt_tl: Months since most recent account opened\n",
      "•mort_acc: Number of mortgage accounts.\n",
      "•mths_since_recent_bc: Months since most recent bankcard account opened.\n",
      "•mths_since_recent_bc_dlq: Months since most recent bankcard delinquency\n",
      "•mths_since_recent_inq: Months since most recent inquiry.\n",
      "•mths_since_recent_revol_delinq: Months since most recent revolving delinquency.\n",
      "•num_accts_ever_120_pd: Number of accounts ever 120 or more days past due\n",
      "•num_actv_bc_tl: Number of currently active bankcard accounts\n",
      "•num_actv_rev_tl: Number of currently active revolving trades\n",
      "•num_bc_sats: Number of satisfactory bankcard accounts\n",
      "•num_bc_tl: Number of bankcard accounts\n",
      "•num_il_tl: Number of installment accounts\n",
      "•num_op_rev_tl: Number of open revolving accounts\n",
      "•num_rev_accts: Number of revolving accounts\n",
      "•num_rev_tl_bal_gt_0: Number of revolving trades with balance >0\n",
      "•num_sats: Number of satisfactory accounts\n",
      "•num_tl_120dpd_2m: Number of accounts currently 120 days past due (updated in past 2 months)\n",
      "•num_tl_30dpd: Number of accounts currently 30 days past due (updated in past 2 months)\n",
      "•num_tl_90g_dpd_24m: Number of accounts 90 or more days past due in last 24 months\n",
      "•num_tl_op_past_12m: Number of accounts opened in past 12 months\n",
      "•pct_tl_nvr_dlq: Percent of trades never delinquent\n",
      "•percent_bc_gt_75: Percentage of all bankcard accounts > 75% of limit.\n",
      "•pub_rec_bankruptcies: Number of public record bankruptcies\n",
      "•tax_liens: Number of tax liens\n",
      "•tot_hi_cred_lim: Total high credit/credit limit\n",
      "•total_bal_ex_mort: Total credit balance excluding mortgage\n",
      "•total_bc_limit: Total bankcard high credit/credit limit\n",
      "•total_il_high_credit_limit: Total installment high credit/credit limit\n",
      "•revol_bal_joint: Sum of revolving credit balance of the co-borrowers, net of duplicate balances\n",
      "•sec_app_fico_range_low: FICO range (high) for the secondary applicant\n",
      "•sec_app_fico_range_high: FICO range (low) for the secondary applicant\n",
      "•sec_app_earliest_cr_line: Earliest credit line at time of application for the secondary applicant\n",
      "•sec_app_inq_last_6mths: Credit inquiries in the last 6 months at time of application for the secondary applicant\n",
      "•sec_app_mort_acc: Number of mortgage accounts at time of application for the secondary applicant\n",
      "•sec_app_open_acc: Number of open trades at time of application for the secondary applicant\n",
      "•sec_app_revol_util: Ratio of total current balance to high credit/credit limit for all revolving accounts\n",
      "•sec_app_open_act_il: Number of currently active installment trades at time of application for the secondary applicant\n",
      "•sec_app_num_rev_accts: Number of revolving accounts at time of application for the secondary applicant\n",
      "•sec_app_chargeoff_within_12_mths: Number of charge-offs within last 12 months at time of application for the secondary applicant\n",
      "•sec_app_collections_12_mths_ex_med: Number of collections within last 12 months excluding medical collections at time of application for the secondary applicant\n",
      "•sec_app_mths_since_last_major_derog: Months since most recent 90-day or worse rating at time of application for the secondary applicant\n",
      "•hardship_flag: Flags whether or not the borrower is on a hardship plan\n",
      "•hardship_type: Describes the hardship plan offering\n",
      "•hardship_reason: Describes the reason the hardship plan was offered\n",
      "•hardship_status: Describes if the hardship plan is active, pending, canceled, completed, or broken\n",
      "•deferral_term: Amount of months that the borrower is expected to pay less than the contractual monthly payment amount due to a hardship plan\n",
      "•hardship_amount: The interest payment that the borrower has committed to make each month while they are on a hardship plan\n",
      "•hardship_start_date: The start date of the hardship plan period\n",
      "•hardship_end_date: The end date of the hardship plan period\n",
      "•payment_plan_start_date: The day the first hardship plan payment is due. For example, if a borrower has a hardship plan period of 3 months, the start date is the start of the three-month period in which the borrower is allowed to make interest-only payments.\n",
      "•hardship_length: The number of months the borrower will make smaller payments than normally obligated due to a hardship plan\n",
      "•hardship_dpd: Account days past due as of the hardship plan start date\n",
      "•hardship_loan_status: Loan Status as of the hardship plan start date\n",
      "•orig_projected_additional_accrued_interest: The original projected additional interest amount that will accrue for the given hardship payment plan as of the Hardship Start Date. This field will be null if the borrower has broken their hardship payment plan.\n",
      "•hardship_payoff_balance_amount: The payoff balance amount as of the hardship plan start date\n",
      "•hardship_last_payment_amount: The last payment amount as of the hardship plan start date\n",
      "•disbursement_method: The method by which the borrower receives their loan. Possible values are: CASH, DIRECT_PAY\n",
      "•debt_settlement_flag: Flags whether or not the borrower, who has charged-off, is working with a debt-settlement company.\n",
      "•debt_settlement_flag_date: The most recent date that the Debt_Settlement_Flag has been set\n",
      "•settlement_status: The status of the borrower’s settlement plan. Possible values are: COMPLETE, ACTIVE, BROKEN, CANCELLED, DENIED, DRAFT\n",
      "•settlement_date: The date that the borrower agrees to the settlement plan\n",
      "•settlement_amount: The loan amount that the borrower has agreed to settle for\n",
      "•settlement_percentage: The settlement amount as a percentage of the payoff balance amount on the loan\n",
      "•settlement_term: The number of months that the borrower will be on the settlement plan\n"
     ]
    }
   ],
   "source": [
    "variable_definitions = pd.read_excel(\"https://resources.lendingclub.com/LCDataDictionary.xlsx\")\n",
    "\n",
    "# Drop blank rows, strip white space, set the \"LoanStatNew\" column as the index, and converting the \"Description\" column to a Python dictionary.\n",
    "variable_definitions.dropna(axis=\"index\", inplace=True)\n",
    "variable_definitions = variable_definitions.applymap(lambda x: x.strip())\n",
    "variable_definitions.set_index(\"LoanStatNew\", inplace=True)\n",
    "dictionary = variable_definitions[\"Description\"].to_dict()\n",
    "# Rename \"verified_status_joint\" to \"verification_status_joint\".\n",
    "dictionary[\"verification_status_joint\"] = dictionary.pop(\"verified_status_joint\")\n",
    "\n",
    "# Print out each column name in the data_row and its corresponding description from the data dictionary\n",
    "for col in data_row.columns:\n",
    "  print(f\"•{col}: {dictionary[col]}\")"
   ],
   "metadata": {
    "collapsed": false
   }
  },
  {
   "cell_type": "markdown",
   "source": [
    "Here are the descriptions of each of the columns:\n",
    "\n",
    "term: The number of payments on the loan. Values are in months and can be either 36 or 60.\n",
    "installment: The monthly payment owed by the borrower if the loan is funded.\n",
    "total_rec_prncp: The total principal amount of the loan that has been paid off by the borrower.\n",
    "total_rec_int: The total interest amount that has been paid by the borrower.\n",
    "total_rec_late_fee: The total late fee amount that has been paid by the borrower.\n",
    "recoveries: The post charge off gross recovery amount.\n",
    "collection_recovery_fee: The post charge off collection fee.\n",
    "\n",
    "Here is the formula we can use to calculate:\n",
    "\n",
    "Expected Return = term x installment\n",
    "Amount Received = total_rec_prncp + total_rec_int + total_rec_late_fee + recoveries - collection_recovery_fee\n",
    "Fraction of Expected Return Recovered = Amount Received / Expected Return"
   ],
   "metadata": {
    "collapsed": false
   }
  },
  {
   "cell_type": "code",
   "execution_count": 10,
   "outputs": [],
   "source": [
    "output_columns = [\"term\", \"installment\", \"total_rec_prncp\", \"total_rec_int\", \"total_rec_late_fee\", \"recoveries\", \"collection_recovery_fee\"]"
   ],
   "metadata": {
    "collapsed": false
   }
  },
  {
   "cell_type": "markdown",
   "source": [
    "Some columns contain irrelevant demographic data or data that was not created until after a loan was accepted, and thus those columns need to be removed. The column \"emp_title\" (the applicant's job title) is potentially relevant in the context of a loan, but it has too many unique values to be useful. We can drop this column for now."
   ],
   "metadata": {
    "collapsed": false
   }
  },
  {
   "cell_type": "code",
   "execution_count": 11,
   "outputs": [
    {
     "data": {
      "text/plain": "512694"
     },
     "execution_count": 11,
     "metadata": {},
     "output_type": "execute_result"
    }
   ],
   "source": [
    "data_row[\"emp_title\"].nunique()"
   ],
   "metadata": {
    "collapsed": false
   }
  },
  {
   "cell_type": "code",
   "execution_count": 12,
   "outputs": [],
   "source": [
    "dropped_columns = [\"id\", \"member_id\", \"funded_amnt\", \"funded_amnt_inv\", \"int_rate\", \"grade\", \"sub_grade\", \"emp_title\", \"pymnt_plan\", \"url\", \"desc\", \"title\", \"zip_code\", \"addr_state\", \"initial_list_status\", \"out_prncp\", \"out_prncp_inv\", \"total_pymnt\", \"total_pymnt_inv\", \"last_pymnt_d\", \"last_pymnt_amnt\", \"next_pymnt_d\", \"last_credit_pull_d\", \"last_fico_range_high\", \"last_fico_range_low\", \"policy_code\", \"hardship_flag\", \"hardship_type\", \"hardship_reason\", \"hardship_status\", \"deferral_term\", \"hardship_amount\", \"hardship_start_date\", \"hardship_end_date\", \"payment_plan_start_date\", \"hardship_length\", \"hardship_dpd\", \"hardship_loan_status\", \"orig_projected_additional_accrued_interest\", \"hardship_payoff_balance_amount\", \"hardship_last_payment_amount\", \"disbursement_method\", \"debt_settlement_flag\", \"debt_settlement_flag_date\", \"settlement_status\", \"settlement_date\", \"settlement_amount\", \"settlement_percentage\", \"settlement_term\"]\n",
    "data = data_row.drop(columns=dropped_columns)"
   ],
   "metadata": {
    "collapsed": false
   }
  },
  {
   "cell_type": "markdown",
   "source": [
    "Group the data by the \"loan_status\" column, and then counts the number of occurrences of each unique value in the \"loan_status\" column"
   ],
   "metadata": {
    "collapsed": false
   }
  },
  {
   "cell_type": "code",
   "execution_count": 13,
   "outputs": [
    {
     "data": {
      "text/plain": "loan_status\nCharged Off                                             268559\nCurrent                                                 878317\nDefault                                                     40\nDoes not meet the credit policy. Status:Charged Off        761\nDoes not meet the credit policy. Status:Fully Paid        1988\nFully Paid                                             1076751\nIn Grace Period                                           8436\nLate (16-30 days)                                         4349\nLate (31-120 days)                                       21467\nName: loan_status, dtype: int64"
     },
     "execution_count": 13,
     "metadata": {},
     "output_type": "execute_result"
    }
   ],
   "source": [
    "data.groupby(\"loan_status\")[\"loan_status\"].count()"
   ],
   "metadata": {
    "collapsed": false
   }
  },
  {
   "cell_type": "markdown",
   "source": [
    "For practical purposes, we decide to only consider loans with statuses containing \"Fully Paid\" or \"Charged Off\" as these indicate the loan is no longer active. The \"credit policy\" columns were also merged with their matching status."
   ],
   "metadata": {
    "collapsed": false
   }
  },
  {
   "cell_type": "code",
   "execution_count": 14,
   "outputs": [],
   "source": [
    "data[\"purpose\"] = data[\"purpose\"].replace(\"educational\", \"other\")"
   ],
   "metadata": {
    "collapsed": false
   }
  },
  {
   "cell_type": "code",
   "execution_count": 15,
   "outputs": [
    {
     "data": {
      "text/plain": "loan_status\nCharged Off     269320\nFully Paid     1078739\nName: loan_status, dtype: int64"
     },
     "execution_count": 15,
     "metadata": {},
     "output_type": "execute_result"
    }
   ],
   "source": [
    "credit_policy_related = \"Does not meet the credit policy. Status:\"\n",
    "len_credit_policy_related = len(credit_policy_related)\n",
    "\n",
    "def remove_credit_policy_related(status):\n",
    "    if credit_policy_related in str(status):\n",
    "        return status[len_credit_policy_related:]\n",
    "    else:\n",
    "        return status\n",
    "\n",
    "data[\"loan_status\"] = data[\"loan_status\"].apply(remove_credit_policy_related)\n",
    "\n",
    "rows_to_drop = data[(data[\"loan_status\"] != \"Charged Off\") & (data[\"loan_status\"] != \"Fully Paid\")].index\n",
    "data.drop(index=rows_to_drop, inplace=True)\n",
    "\n",
    "data.groupby(\"loan_status\")[\"loan_status\"].count()"
   ],
   "metadata": {
    "collapsed": false
   }
  },
  {
   "cell_type": "code",
   "execution_count": 17,
   "outputs": [
    {
     "data": {
      "text/plain": "<Axes: xlabel='loan_status', ylabel='count'>"
     },
     "execution_count": 17,
     "metadata": {},
     "output_type": "execute_result"
    },
    {
     "data": {
      "text/plain": "<Figure size 640x480 with 1 Axes>",
      "image/png": "[encoded data removed]"
     },
     "metadata": {},
     "output_type": "display_data"
    }
   ],
   "source": [
    "import seaborn as sns\n",
    "sns.countplot(x='loan_status', data = data)"
   ],
   "metadata": {
    "collapsed": false
   }
  },
  {
   "cell_type": "markdown",
   "source": [
    "The plot shows a histogram of the loan amount distribution in the dataset. The x-axis represents the loan amount and the y-axis represents the count (or frequency) of loans in the corresponding loan amount bin. It appears that the majority of loans fall within the range of 0 to 40,000, with a peak around 10,000."
   ],
   "metadata": {
    "collapsed": false
   }
  },
  {
   "cell_type": "code",
   "execution_count": 18,
   "outputs": [
    {
     "data": {
      "text/plain": "<Axes: xlabel='loan_amnt', ylabel='Count'>"
     },
     "execution_count": 18,
     "metadata": {},
     "output_type": "execute_result"
    },
    {
     "data": {
      "text/plain": "<Figure size 1200x800 with 1 Axes>",
      "image/png": "[encoded data removed]"
     },
     "metadata": {},
     "output_type": "display_data"
    }
   ],
   "source": [
    "import matplotlib.pyplot as plt\n",
    "fig, ax = plt.subplots(figsize = (12,8))\n",
    "sns.histplot(x='loan_amnt', data = data)"
   ],
   "metadata": {
    "collapsed": false
   }
  },
  {
   "cell_type": "code",
   "execution_count": 19,
   "outputs": [],
   "source": [
    "# import pandas as pd\n",
    "#\n",
    "# correlation_matrix = data.corr(numeric_only=True)\n",
    "# # Display the correlation matrix\n",
    "# print(correlation_matrix)\n",
    "\n",
    "# A correlation matrix is a table showing the correlation coefficients between several variables. The values in the matrix range from -1 to 1 and show how strongly pairs of variables are related. A positive correlation means that as one variable increases, so does the other, while a negative correlation means that as one variable increases, the other decreases. A value of 0 indicates no correlation between the variables."
   ],
   "metadata": {
    "collapsed": false
   }
  },
  {
   "cell_type": "code",
   "execution_count": 20,
   "outputs": [],
   "source": [
    "# import numpy as np\n",
    "#\n",
    "# # Define the threshold for high correlation\n",
    "# threshold = 0.9\n",
    "#\n",
    "# # Find highly correlated pairs of columns\n",
    "# corr_matrix = data.drop(columns=output_columns).corr().abs()\n",
    "# upper_tri = corr_matrix.where(np.triu(np.ones(corr_matrix.shape), k=1).astype(np.bool))\n",
    "# high_corr = [column for column in upper_tri.columns if any(upper_tri[column] > threshold)]\n",
    "# print(high_corr)\n",
    "#\n",
    "# # Drop highly correlated columns\n",
    "# data.drop(high_corr, axis=1, inplace=True)"
   ],
   "metadata": {
    "collapsed": false
   }
  },
  {
   "cell_type": "code",
   "execution_count": 21,
   "outputs": [
    {
     "name": "stdout",
     "output_type": "stream",
     "text": [
      "<class 'pandas.core.frame.DataFrame'>\n",
      "Index: 1348059 entries, 0 to 2260697\n",
      "Data columns (total 7 columns):\n",
      " #   Column                   Non-Null Count    Dtype  \n",
      "---  ------                   --------------    -----  \n",
      " 0   term                     1348059 non-null  object \n",
      " 1   installment              1348059 non-null  float64\n",
      " 2   total_rec_prncp          1348059 non-null  float64\n",
      " 3   total_rec_int            1348059 non-null  float64\n",
      " 4   total_rec_late_fee       1348059 non-null  float64\n",
      " 5   recoveries               1348059 non-null  float64\n",
      " 6   collection_recovery_fee  1348059 non-null  float64\n",
      "dtypes: float64(6), object(1)\n",
      "memory usage: 82.3+ MB\n"
     ]
    }
   ],
   "source": [
    "data[output_columns].info()"
   ],
   "metadata": {
    "collapsed": false
   }
  },
  {
   "cell_type": "code",
   "execution_count": 22,
   "outputs": [
    {
     "data": {
      "text/plain": "term\n 36 months    1023181\n 60 months     324878\nName: term, dtype: int64"
     },
     "execution_count": 22,
     "metadata": {},
     "output_type": "execute_result"
    }
   ],
   "source": [
    "data.groupby(\"term\")[\"term\"].count()"
   ],
   "metadata": {
    "collapsed": false
   }
  },
  {
   "cell_type": "code",
   "execution_count": 23,
   "outputs": [],
   "source": [
    "# Define a list of columns to one-hot encode\n",
    "onehot_coloumns = [\"term\"]\n",
    "\n",
    "# Strip leading/trailing whitespace from the term column\n",
    "data[\"term\"] = data[\"term\"].map(lambda term_str: term_str.strip())\n",
    "\n",
    "# Extract the numerical value from the term column and store it in a new column called term_num\n",
    "extract_num = lambda term_str: float(term_str[:2])\n",
    "data[\"term_num\"] = data[\"term\"].map(extract_num)\n",
    "\n",
    "# Remove the original term column from the list of output columns and add the new term_num column\n",
    "output_columns.remove(\"term\")\n",
    "output_columns.append(\"term_num\")"
   ],
   "metadata": {
    "collapsed": false
   }
  },
  {
   "cell_type": "code",
   "execution_count": 24,
   "outputs": [
    {
     "data": {
      "text/plain": "                 count      mean       std       min       25%       50%   \nloan_status                                                                \nCharged Off   269320.0  0.400162  0.219020  0.000000  0.224463  0.367554  \\\nFully Paid   1078739.0  0.932705  0.100455  0.506053  0.897912  0.960100   \n\n                  75%        max  \nloan_status                       \nCharged Off  0.550924   2.410680  \nFully Paid   0.997612  60.932353  ",
      "text/html": "<div>\n<style scoped>\n    .dataframe tbody tr th:only-of-type {\n        vertical-align: middle;\n    }\n\n    .dataframe tbody tr th {\n        vertical-align: top;\n    }\n\n    .dataframe thead th {\n        text-align: right;\n    }\n</style>\n<table border=\"1\" class=\"dataframe\">\n  <thead>\n    <tr style=\"text-align: right;\">\n      <th></th>\n      <th>count</th>\n      <th>mean</th>\n      <th>std</th>\n      <th>min</th>\n      <th>25%</th>\n      <th>50%</th>\n      <th>75%</th>\n      <th>max</th>\n    </tr>\n    <tr>\n      <th>loan_status</th>\n      <th></th>\n      <th></th>\n      <th></th>\n      <th></th>\n      <th></th>\n      <th></th>\n      <th></th>\n      <th></th>\n    </tr>\n  </thead>\n  <tbody>\n    <tr>\n      <th>Charged Off</th>\n      <td>269320.0</td>\n      <td>0.400162</td>\n      <td>0.219020</td>\n      <td>0.000000</td>\n      <td>0.224463</td>\n      <td>0.367554</td>\n      <td>0.550924</td>\n      <td>2.410680</td>\n    </tr>\n    <tr>\n      <th>Fully Paid</th>\n      <td>1078739.0</td>\n      <td>0.932705</td>\n      <td>0.100455</td>\n      <td>0.506053</td>\n      <td>0.897912</td>\n      <td>0.960100</td>\n      <td>0.997612</td>\n      <td>60.932353</td>\n    </tr>\n  </tbody>\n</table>\n</div>"
     },
     "execution_count": 24,
     "metadata": {},
     "output_type": "execute_result"
    }
   ],
   "source": [
    "received = data[[\"total_rec_prncp\", \"total_rec_int\", \"total_rec_late_fee\", \"recoveries\"]].sum(axis=1) - data[\"collection_recovery_fee\"]\n",
    "expected = data[\"installment\"] * data[\"term_num\"]\n",
    "data[\"recovered_percentage\"] = received / expected\n",
    "\n",
    "data.groupby(\"loan_status\")[\"recovered_percentage\"].describe()"
   ],
   "metadata": {
    "collapsed": false
   }
  },
  {
   "cell_type": "code",
   "execution_count": 25,
   "outputs": [
    {
     "data": {
      "text/plain": "                 count      mean       std  min       25%       50%       75%   \nloan_status                                                                     \nCharged Off   269320.0  0.400152  0.218971  0.0  0.224463  0.367554  0.550924  \\\nFully Paid   1078739.0  1.000000  0.000000  1.0  1.000000  1.000000  1.000000   \n\n             max  \nloan_status       \nCharged Off  1.0  \nFully Paid   1.0  ",
      "text/html": "<div>\n<style scoped>\n    .dataframe tbody tr th:only-of-type {\n        vertical-align: middle;\n    }\n\n    .dataframe tbody tr th {\n        vertical-align: top;\n    }\n\n    .dataframe thead th {\n        text-align: right;\n    }\n</style>\n<table border=\"1\" class=\"dataframe\">\n  <thead>\n    <tr style=\"text-align: right;\">\n      <th></th>\n      <th>count</th>\n      <th>mean</th>\n      <th>std</th>\n      <th>min</th>\n      <th>25%</th>\n      <th>50%</th>\n      <th>75%</th>\n      <th>max</th>\n    </tr>\n    <tr>\n      <th>loan_status</th>\n      <th></th>\n      <th></th>\n      <th></th>\n      <th></th>\n      <th></th>\n      <th></th>\n      <th></th>\n      <th></th>\n    </tr>\n  </thead>\n  <tbody>\n    <tr>\n      <th>Charged Off</th>\n      <td>269320.0</td>\n      <td>0.400152</td>\n      <td>0.218971</td>\n      <td>0.0</td>\n      <td>0.224463</td>\n      <td>0.367554</td>\n      <td>0.550924</td>\n      <td>1.0</td>\n    </tr>\n    <tr>\n      <th>Fully Paid</th>\n      <td>1078739.0</td>\n      <td>1.000000</td>\n      <td>0.000000</td>\n      <td>1.0</td>\n      <td>1.000000</td>\n      <td>1.000000</td>\n      <td>1.000000</td>\n      <td>1.0</td>\n    </tr>\n  </tbody>\n</table>\n</div>"
     },
     "execution_count": 25,
     "metadata": {},
     "output_type": "execute_result"
    }
   ],
   "source": [
    "import numpy as np\n",
    "\n",
    "# set a maximum value of 1 for the recovered_percentage variable\n",
    "data[\"recovered_percentage\"] = np.where(\n",
    "  (data[\"loan_status\"] == \"Fully Paid\") | (data[\"recovered_percentage\"] > 1.0),\n",
    "  1.0,\n",
    "  data[\"recovered_percentage\"],\n",
    ")\n",
    "\n",
    "# group the data by loan_status and describe the recovered_percentage variable\n",
    "data.groupby(\"loan_status\")[\"recovered_percentage\"].describe()"
   ],
   "metadata": {
    "collapsed": false
   }
  },
  {
   "cell_type": "code",
   "execution_count": null,
   "outputs": [],
   "source": [
    "plt"
   ],
   "metadata": {
    "collapsed": false
   }
  },
  {
   "cell_type": "code",
   "execution_count": 26,
   "outputs": [
    {
     "data": {
      "text/plain": "<Figure size 640x480 with 1 Axes>",
      "image/png": "[encoded data removed]"
     },
     "metadata": {},
     "output_type": "display_data"
    }
   ],
   "source": [
    "import matplotlib.pyplot as plt\n",
    "%matplotlib inline\n",
    "import seaborn as sns\n",
    "\n",
    "sns.kdeplot(\n",
    "  data=data[\"recovered_percentage\"][data[\"loan_status\"] == \"Charged Off\"],\n",
    "  label=\"Charged Off\",\n",
    "  fill=True,\n",
    ")\n",
    "plt.axis(xmin=0, xmax=1)\n",
    "plt.title('Recovered Percentage Distribution')\n",
    "plt.show()"
   ],
   "metadata": {
    "collapsed": false
   }
  },
  {
   "cell_type": "code",
   "execution_count": 27,
   "outputs": [
    {
     "name": "stdout",
     "output_type": "stream",
     "text": [
      "<class 'pandas.core.frame.DataFrame'>\n",
      "Index: 1348059 entries, 0 to 2260697\n",
      "Data columns (total 97 columns):\n",
      " #   Column                               Non-Null Count    Dtype  \n",
      "---  ------                               --------------    -----  \n",
      " 0   loan_amnt                            1348059 non-null  float64\n",
      " 1   term                                 1348059 non-null  object \n",
      " 2   emp_length                           1269514 non-null  object \n",
      " 3   home_ownership                       1348059 non-null  object \n",
      " 4   annual_inc                           1348055 non-null  float64\n",
      " 5   verification_status                  1348059 non-null  object \n",
      " 6   issue_d                              1348059 non-null  object \n",
      " 7   loan_status                          1348059 non-null  object \n",
      " 8   purpose                              1348059 non-null  object \n",
      " 9   dti                                  1347685 non-null  float64\n",
      " 10  delinq_2yrs                          1348030 non-null  float64\n",
      " 11  earliest_cr_line                     1348030 non-null  object \n",
      " 12  fico_range_low                       1348059 non-null  float64\n",
      " 13  fico_range_high                      1348059 non-null  float64\n",
      " 14  inq_last_6mths                       1348029 non-null  float64\n",
      " 15  mths_since_last_delinq               668117 non-null   float64\n",
      " 16  mths_since_last_record               229415 non-null   float64\n",
      " 17  open_acc                             1348030 non-null  float64\n",
      " 18  pub_rec                              1348030 non-null  float64\n",
      " 19  revol_bal                            1348059 non-null  float64\n",
      " 20  revol_util                           1347162 non-null  float64\n",
      " 21  total_acc                            1348030 non-null  float64\n",
      " 22  collections_12_mths_ex_med           1347914 non-null  float64\n",
      " 23  mths_since_last_major_derog          353750 non-null   float64\n",
      " 24  application_type                     1348059 non-null  object \n",
      " 25  annual_inc_joint                     25800 non-null    float64\n",
      " 26  dti_joint                            25797 non-null    float64\n",
      " 27  verification_status_joint            25595 non-null    object \n",
      " 28  acc_now_delinq                       1348030 non-null  float64\n",
      " 29  tot_coll_amt                         1277783 non-null  float64\n",
      " 30  tot_cur_bal                          1277783 non-null  float64\n",
      " 31  open_acc_6m                          537597 non-null   float64\n",
      " 32  open_act_il                          537598 non-null   float64\n",
      " 33  open_il_12m                          537598 non-null   float64\n",
      " 34  open_il_24m                          537598 non-null   float64\n",
      " 35  mths_since_rcnt_il                   523382 non-null   float64\n",
      " 36  total_bal_il                         537598 non-null   float64\n",
      " 37  il_util                              465016 non-null   float64\n",
      " 38  open_rv_12m                          537598 non-null   float64\n",
      " 39  open_rv_24m                          537598 non-null   float64\n",
      " 40  max_bal_bc                           537598 non-null   float64\n",
      " 41  all_util                             537545 non-null   float64\n",
      " 42  total_rev_hi_lim                     1277783 non-null  float64\n",
      " 43  inq_fi                               537598 non-null   float64\n",
      " 44  total_cu_tl                          537597 non-null   float64\n",
      " 45  inq_last_12m                         537597 non-null   float64\n",
      " 46  acc_open_past_24mths                 1298029 non-null  float64\n",
      " 47  avg_cur_bal                          1277761 non-null  float64\n",
      " 48  bc_open_to_buy                       1284167 non-null  float64\n",
      " 49  bc_util                              1283398 non-null  float64\n",
      " 50  chargeoff_within_12_mths             1347914 non-null  float64\n",
      " 51  delinq_amnt                          1348030 non-null  float64\n",
      " 52  mo_sin_old_il_acct                   1239735 non-null  float64\n",
      " 53  mo_sin_old_rev_tl_op                 1277782 non-null  float64\n",
      " 54  mo_sin_rcnt_rev_tl_op                1277782 non-null  float64\n",
      " 55  mo_sin_rcnt_tl                       1277783 non-null  float64\n",
      " 56  mort_acc                             1298029 non-null  float64\n",
      " 57  mths_since_recent_bc                 1285089 non-null  float64\n",
      " 58  mths_since_recent_bc_dlq             319020 non-null   float64\n",
      " 59  mths_since_recent_inq                1171239 non-null  float64\n",
      " 60  mths_since_recent_revol_delinq       449962 non-null   float64\n",
      " 61  num_accts_ever_120_pd                1277783 non-null  float64\n",
      " 62  num_actv_bc_tl                       1277783 non-null  float64\n",
      " 63  num_actv_rev_tl                      1277783 non-null  float64\n",
      " 64  num_bc_sats                          1289469 non-null  float64\n",
      " 65  num_bc_tl                            1277783 non-null  float64\n",
      " 66  num_il_tl                            1277783 non-null  float64\n",
      " 67  num_op_rev_tl                        1277783 non-null  float64\n",
      " 68  num_rev_accts                        1277782 non-null  float64\n",
      " 69  num_rev_tl_bal_gt_0                  1277783 non-null  float64\n",
      " 70  num_sats                             1289469 non-null  float64\n",
      " 71  num_tl_120dpd_2m                     1227909 non-null  float64\n",
      " 72  num_tl_30dpd                         1277783 non-null  float64\n",
      " 73  num_tl_90g_dpd_24m                   1277783 non-null  float64\n",
      " 74  num_tl_op_past_12m                   1277783 non-null  float64\n",
      " 75  pct_tl_nvr_dlq                       1277629 non-null  float64\n",
      " 76  percent_bc_gt_75                     1283755 non-null  float64\n",
      " 77  pub_rec_bankruptcies                 1346694 non-null  float64\n",
      " 78  tax_liens                            1347954 non-null  float64\n",
      " 79  tot_hi_cred_lim                      1277783 non-null  float64\n",
      " 80  total_bal_ex_mort                    1298029 non-null  float64\n",
      " 81  total_bc_limit                       1298029 non-null  float64\n",
      " 82  total_il_high_credit_limit           1277783 non-null  float64\n",
      " 83  revol_bal_joint                      18629 non-null    float64\n",
      " 84  sec_app_fico_range_low               18630 non-null    float64\n",
      " 85  sec_app_fico_range_high              18630 non-null    float64\n",
      " 86  sec_app_earliest_cr_line             18630 non-null    object \n",
      " 87  sec_app_inq_last_6mths               18630 non-null    float64\n",
      " 88  sec_app_mort_acc                     18630 non-null    float64\n",
      " 89  sec_app_open_acc                     18630 non-null    float64\n",
      " 90  sec_app_revol_util                   18302 non-null    float64\n",
      " 91  sec_app_open_act_il                  18630 non-null    float64\n",
      " 92  sec_app_num_rev_accts                18630 non-null    float64\n",
      " 93  sec_app_chargeoff_within_12_mths     18630 non-null    float64\n",
      " 94  sec_app_collections_12_mths_ex_med   18630 non-null    float64\n",
      " 95  sec_app_mths_since_last_major_derog  6645 non-null     float64\n",
      " 96  recovered_percentage                 1348059 non-null  float64\n",
      "dtypes: float64(86), object(11)\n",
      "memory usage: 1007.9+ MB\n"
     ]
    }
   ],
   "source": [
    "# The verbose parameter is set to True to show the counts of non-null values.\n",
    "data.drop(columns=output_columns, inplace=True)\n",
    "data.info(verbose=True, show_counts=True)"
   ],
   "metadata": {
    "collapsed": false
   }
  },
  {
   "cell_type": "markdown",
   "source": [
    "The columns with a high number of null values can be categorized into three groups:\n",
    "1. derogatory/delinquency metrics, where null values indicate no such marks;\n",
    "2. metrics applicable only to joint applications, where null values indicate a single application;\n",
    "3. a group of 14 credit history-related columns with only 537,000 entries, which raises questions about their novelty.\n",
    "\n",
    "Additionally, I will include \"mths_since_recent_inq\" in the first category since its non-null count falls below the threshold of complete data at around 1,277,783, and null values here may indicate no recent inquiries."
   ],
   "metadata": {
    "collapsed": false
   }
  },
  {
   "cell_type": "code",
   "execution_count": 28,
   "outputs": [],
   "source": [
    "negative_mark_columns = [\"mths_since_last_delinq\", \"mths_since_last_record\", \"mths_since_last_major_derog\", \"mths_since_recent_bc_dlq\", \"mths_since_recent_inq\", \"mths_since_recent_revol_delinq\", \"mths_since_recent_revol_delinq\", \"sec_app_mths_since_last_major_derog\"]\n",
    "joint_columns = [\"annual_inc_joint\", \"dti_joint\", \"verification_status_joint\", \"revol_bal_joint\", \"sec_app_fico_range_low\", \"sec_app_fico_range_high\", \"sec_app_earliest_cr_line\", \"sec_app_inq_last_6mths\", \"sec_app_mort_acc\", \"sec_app_open_acc\", \"sec_app_revol_util\", \"sec_app_open_act_il\", \"sec_app_num_rev_accts\", \"sec_app_chargeoff_within_12_mths\", \"sec_app_collections_12_mths_ex_med\", \"sec_app_mths_since_last_major_derog\"]\n",
    "confusing_columns = [\"open_acc_6m\", \"open_act_il\", \"open_il_12m\", \"open_il_24m\", \"mths_since_rcnt_il\", \"total_bal_il\", \"il_util\", \"open_rv_12m\", \"open_rv_24m\", \"max_bal_bc\", \"all_util\", \"inq_fi\", \"total_cu_tl\", \"inq_last_12m\"]"
   ],
   "metadata": {
    "collapsed": false
   }
  },
  {
   "cell_type": "code",
   "execution_count": 29,
   "outputs": [
    {
     "name": "stderr",
     "output_type": "stream",
     "text": [
      "/var/folders/d5/hpc31dsx59l4rfyrs6m6yvp00000gn/T/ipykernel_12728/2335218645.py:2: UserWarning: Could not infer format, so each element will be parsed individually, falling back to `dateutil`. To ensure parsing is consistent and as-expected, please specify a format.\n",
      "  data[\"issue_d\"] = data[\"issue_d\"].astype(\"datetime64[ns]\")\n"
     ]
    },
    {
     "data": {
      "text/plain": "count                 464325\nmin      2015-12-01 00:00:00\nmax      2018-12-01 00:00:00\nName: issue_d, dtype: object"
     },
     "execution_count": 29,
     "metadata": {},
     "output_type": "execute_result"
    }
   ],
   "source": [
    "# Convert \"issue_d\" column to datetime format\n",
    "data[\"issue_d\"] = data[\"issue_d\"].astype(\"datetime64[ns]\")\n",
    "\n",
    "# Check the date range of confusing columns by selecting the confusing columns and the \"issue_d\" column,\n",
    "# removing rows with null values, and then computing the count, min and max values for \"issue_d\"\n",
    "data[confusing_columns + [\"issue_d\"]].dropna(axis=\"index\")[\"issue_d\"].agg(\n",
    "  [\"count\", \"min\", \"max\"]\n",
    ")"
   ],
   "metadata": {
    "collapsed": false
   }
  },
  {
   "cell_type": "code",
   "execution_count": 30,
   "outputs": [],
   "source": [
    "# # Assuming 'data' is a DataFrame containing your data\n",
    "# # Make sure 'issue_d' is already converted to datetime format\n",
    "#\n",
    "# # Filter rows to only include data from 2018\n",
    "# data = data[(data['issue_d'] >= np.datetime64(\"2015-01-01\")) & (data['issue_d'] <= np.datetime64(\"2018-12-31\"))]\n",
    "#\n",
    "# # Reset the index of the new DataFrame\n",
    "# data.reset_index(drop=True, inplace=True)"
   ],
   "metadata": {
    "collapsed": false
   }
  },
  {
   "cell_type": "code",
   "execution_count": 31,
   "outputs": [
    {
     "data": {
      "text/plain": "count                 557708\nmin      2015-12-01 00:00:00\nmax      2018-12-01 00:00:00\nName: issue_d, dtype: object"
     },
     "execution_count": 31,
     "metadata": {},
     "output_type": "execute_result"
    }
   ],
   "source": [
    "# Filter the \"issue_d\" column to only include dates from Dec 2015 onward and get the count, minimum, and maximum date values\n",
    "data[\"issue_d\"][data[\"issue_d\"] >= np.datetime64(\"2015-12-01\")].agg(\n",
    "  [\"count\", \"min\", \"max\"]\n",
    ")"
   ],
   "metadata": {
    "collapsed": false
   }
  },
  {
   "cell_type": "markdown",
   "source": [
    "After examining the data, it appears that the 14 confusing columns are indeed newer metrics, and their usage only began in December 2015. However, even after that point, their usage is spotty. Despite this, I'm curious to see if these additional metrics would improve the accuracy of a machine learning model. So, after completing the data cleaning process, I will create a new dataset that contains only the rows with these new metrics and use it to build a new model that includes these metrics."
   ],
   "metadata": {
    "collapsed": false
   }
  },
  {
   "cell_type": "code",
   "execution_count": 32,
   "outputs": [],
   "source": [
    "new_metric_columns = confusing_columns"
   ],
   "metadata": {
    "collapsed": false
   }
  },
  {
   "cell_type": "markdown",
   "source": [
    "To process the derogatory/delinquency metrics, I will follow Michael Wurm's suggestion and obtain the inverse of all the “months since recent/last” fields. This conversion will transform each field into a proxy for the frequency of the event, while allowing me to assign a 0 value to all the null fields (when an event has never occurred). For the “months since oldest” fields, I will set the null values to 0 and leave the remaining fields unchanged."
   ],
   "metadata": {
    "collapsed": false
   }
  },
  {
   "cell_type": "code",
   "execution_count": 33,
   "outputs": [],
   "source": [
    "# Identify columns with \"months since\" and \"months since recent\" in their name\n",
    "months_since_last_columns = [\n",
    "    col_name for col_name in data.columns if \"mths_since\" in col_name or \"mo_sin_rcnt\" in col_name\n",
    "]\n",
    "\n",
    "# For \"months since\" columns, if the value is 0, set it to 1 to avoid dividing by zero. If the value is already a number of months, take the inverse.\n",
    "for col_name in months_since_last_columns:\n",
    "    data[col_name] = [\n",
    "        0.0 if pd.isna(months) else 1 / 1 if months == 0 else 1 / months\n",
    "        for months in data[col_name]\n",
    "    ]\n",
    "\n",
    "# Rename inverse columns\n",
    "rename_mapper = {}\n",
    "for col_name in months_since_last_columns:\n",
    "    rename_mapper[col_name] = col_name.replace(\"mths_since\", \"inv_mths_since\").replace(\n",
    "        \"mo_sin_rcnt\", \"inv_mo_sin_rcnt\"\n",
    "    )\n",
    "data.rename(columns=rename_mapper, inplace=True)\n",
    "\n",
    "# Identify columns with \"months since oldest\" in their name\n",
    "months_since_oldest_columns = [\n",
    "    col_name for col_name in data.columns if \"mo_sin_old\" in col_name\n",
    "]\n",
    "\n",
    "# Replace null values in \"months since oldest\" columns with 0\n",
    "data.loc[:, months_since_oldest_columns].fillna(0, inplace=True)\n",
    "\n",
    "def replace_list_value(l, old_value, new_value):\n",
    "  i = l.index(old_value)\n",
    "  l.pop(i)\n",
    "  l.insert(i, new_value)\n",
    "\n",
    "# Replace columns in new_metric_columns with their inverse values\n",
    "replace_list_value(new_metric_columns, \"mths_since_rcnt_il\", \"inv_mths_since_rcnt_il\")\n",
    "replace_list_value(\n",
    "    joint_columns,\n",
    "    \"sec_app_mths_since_last_major_derog\",\n",
    "    \"sec_app_inv_mths_since_last_major_derog\",\n",
    ")"
   ],
   "metadata": {
    "collapsed": false
   }
  },
  {
   "cell_type": "markdown",
   "source": [
    "Take a look at joint loans, it seems there are newer metrics for joint applications as well."
   ],
   "metadata": {
    "collapsed": false
   }
  },
  {
   "cell_type": "code",
   "execution_count": 34,
   "outputs": [
    {
     "name": "stdout",
     "output_type": "stream",
     "text": [
      "<class 'pandas.core.frame.DataFrame'>\n",
      "Index: 25800 entries, 2 to 2260663\n",
      "Data columns (total 16 columns):\n",
      " #   Column                                   Non-Null Count  Dtype  \n",
      "---  ------                                   --------------  -----  \n",
      " 0   annual_inc_joint                         25800 non-null  float64\n",
      " 1   dti_joint                                25797 non-null  float64\n",
      " 2   verification_status_joint                25595 non-null  object \n",
      " 3   revol_bal_joint                          18629 non-null  float64\n",
      " 4   sec_app_fico_range_low                   18630 non-null  float64\n",
      " 5   sec_app_fico_range_high                  18630 non-null  float64\n",
      " 6   sec_app_earliest_cr_line                 18630 non-null  object \n",
      " 7   sec_app_inq_last_6mths                   18630 non-null  float64\n",
      " 8   sec_app_mort_acc                         18630 non-null  float64\n",
      " 9   sec_app_open_acc                         18630 non-null  float64\n",
      " 10  sec_app_revol_util                       18302 non-null  float64\n",
      " 11  sec_app_open_act_il                      18630 non-null  float64\n",
      " 12  sec_app_num_rev_accts                    18630 non-null  float64\n",
      " 13  sec_app_chargeoff_within_12_mths         18630 non-null  float64\n",
      " 14  sec_app_collections_12_mths_ex_med       18630 non-null  float64\n",
      " 15  sec_app_inv_mths_since_last_major_derog  25800 non-null  float64\n",
      "dtypes: float64(14), object(2)\n",
      "memory usage: 3.3+ MB\n"
     ]
    }
   ],
   "source": [
    "joint_loans = data[:][data[\"application_type\"] == \"Joint App\"]\n",
    "joint_loans[joint_columns].info()"
   ],
   "metadata": {
    "collapsed": false
   }
  },
  {
   "cell_type": "code",
   "execution_count": 35,
   "outputs": [
    {
     "data": {
      "text/plain": "count                  18301\nmin      2017-03-01 00:00:00\nmax      2018-12-01 00:00:00\nName: issue_d, dtype: object"
     },
     "execution_count": 35,
     "metadata": {},
     "output_type": "execute_result"
    }
   ],
   "source": [
    "# List of columns with new metrics that only apply to joint applications\n",
    "joint_new_metric_columns = [\"revol_bal_joint\", \"sec_app_fico_range_low\", \"sec_app_fico_range_high\", \"sec_app_earliest_cr_line\", \"sec_app_inq_last_6mths\", \"sec_app_mort_acc\", \"sec_app_open_acc\", \"sec_app_revol_util\", \"sec_app_open_act_il\", \"sec_app_num_rev_accts\", \"sec_app_chargeoff_within_12_mths\", \"sec_app_collections_12_mths_ex_med\", \"sec_app_inv_mths_since_last_major_derog\"]\n",
    "\n",
    "# Check date range of joint loan data with new metrics\n",
    "joint_loans[joint_new_metric_columns + [\"issue_d\"]].dropna(axis=\"index\")[\"issue_d\"].agg(\n",
    "[\"count\", \"min\", \"max\"]\n",
    ")"
   ],
   "metadata": {
    "collapsed": false
   }
  },
  {
   "cell_type": "code",
   "execution_count": 36,
   "outputs": [
    {
     "data": {
      "text/plain": "count                  25800\nmin      2015-10-01 00:00:00\nmax      2018-12-01 00:00:00\nName: issue_d, dtype: object"
     },
     "execution_count": 36,
     "metadata": {},
     "output_type": "execute_result"
    }
   ],
   "source": [
    "joint_loans[\"issue_d\"].agg([\"count\", \"min\", \"max\"])"
   ],
   "metadata": {
    "collapsed": false
   }
  },
  {
   "cell_type": "code",
   "execution_count": 37,
   "outputs": [
    {
     "name": "stdout",
     "output_type": "stream",
     "text": [
      "<class 'pandas.core.frame.DataFrame'>\n",
      "Index: 1348059 entries, 0 to 2260697\n",
      "Data columns (total 97 columns):\n",
      " #   Column                                   Non-Null Count    Dtype         \n",
      "---  ------                                   --------------    -----         \n",
      " 0   loan_amnt                                1348059 non-null  float64       \n",
      " 1   term                                     1348059 non-null  object        \n",
      " 2   emp_length                               1269514 non-null  object        \n",
      " 3   home_ownership                           1348059 non-null  object        \n",
      " 4   annual_inc                               1348055 non-null  float64       \n",
      " 5   verification_status                      1348059 non-null  object        \n",
      " 6   issue_d                                  1348059 non-null  datetime64[ns]\n",
      " 7   loan_status                              1348059 non-null  object        \n",
      " 8   purpose                                  1348059 non-null  object        \n",
      " 9   dti                                      1347685 non-null  float64       \n",
      " 10  delinq_2yrs                              1348030 non-null  float64       \n",
      " 11  earliest_cr_line                         1348030 non-null  object        \n",
      " 12  fico_range_low                           1348059 non-null  float64       \n",
      " 13  fico_range_high                          1348059 non-null  float64       \n",
      " 14  inq_last_6mths                           1348029 non-null  float64       \n",
      " 15  inv_mths_since_last_delinq               1348059 non-null  float64       \n",
      " 16  inv_mths_since_last_record               1348059 non-null  float64       \n",
      " 17  open_acc                                 1348030 non-null  float64       \n",
      " 18  pub_rec                                  1348030 non-null  float64       \n",
      " 19  revol_bal                                1348059 non-null  float64       \n",
      " 20  revol_util                               1347162 non-null  float64       \n",
      " 21  total_acc                                1348030 non-null  float64       \n",
      " 22  collections_12_mths_ex_med               1347914 non-null  float64       \n",
      " 23  inv_mths_since_last_major_derog          1348059 non-null  float64       \n",
      " 24  application_type                         1348059 non-null  object        \n",
      " 25  annual_inc_joint                         1348055 non-null  float64       \n",
      " 26  dti_joint                                1348056 non-null  float64       \n",
      " 27  verification_status_joint                1347854 non-null  object        \n",
      " 28  acc_now_delinq                           1348030 non-null  float64       \n",
      " 29  tot_coll_amt                             1277783 non-null  float64       \n",
      " 30  tot_cur_bal                              1277783 non-null  float64       \n",
      " 31  open_acc_6m                              537597 non-null   float64       \n",
      " 32  open_act_il                              537598 non-null   float64       \n",
      " 33  open_il_12m                              537598 non-null   float64       \n",
      " 34  open_il_24m                              537598 non-null   float64       \n",
      " 35  inv_mths_since_rcnt_il                   1348059 non-null  float64       \n",
      " 36  total_bal_il                             537598 non-null   float64       \n",
      " 37  il_util                                  465016 non-null   float64       \n",
      " 38  open_rv_12m                              537598 non-null   float64       \n",
      " 39  open_rv_24m                              537598 non-null   float64       \n",
      " 40  max_bal_bc                               537598 non-null   float64       \n",
      " 41  all_util                                 537545 non-null   float64       \n",
      " 42  total_rev_hi_lim                         1277783 non-null  float64       \n",
      " 43  inq_fi                                   537598 non-null   float64       \n",
      " 44  total_cu_tl                              537597 non-null   float64       \n",
      " 45  inq_last_12m                             537597 non-null   float64       \n",
      " 46  acc_open_past_24mths                     1298029 non-null  float64       \n",
      " 47  avg_cur_bal                              1277761 non-null  float64       \n",
      " 48  bc_open_to_buy                           1284167 non-null  float64       \n",
      " 49  bc_util                                  1283398 non-null  float64       \n",
      " 50  chargeoff_within_12_mths                 1347914 non-null  float64       \n",
      " 51  delinq_amnt                              1348030 non-null  float64       \n",
      " 52  mo_sin_old_il_acct                       1239735 non-null  float64       \n",
      " 53  mo_sin_old_rev_tl_op                     1277782 non-null  float64       \n",
      " 54  inv_mo_sin_rcnt_rev_tl_op                1348059 non-null  float64       \n",
      " 55  inv_mo_sin_rcnt_tl                       1348059 non-null  float64       \n",
      " 56  mort_acc                                 1298029 non-null  float64       \n",
      " 57  inv_mths_since_recent_bc                 1348059 non-null  float64       \n",
      " 58  inv_mths_since_recent_bc_dlq             1348059 non-null  float64       \n",
      " 59  inv_mths_since_recent_inq                1348059 non-null  float64       \n",
      " 60  inv_mths_since_recent_revol_delinq       1348059 non-null  float64       \n",
      " 61  num_accts_ever_120_pd                    1277783 non-null  float64       \n",
      " 62  num_actv_bc_tl                           1277783 non-null  float64       \n",
      " 63  num_actv_rev_tl                          1277783 non-null  float64       \n",
      " 64  num_bc_sats                              1289469 non-null  float64       \n",
      " 65  num_bc_tl                                1277783 non-null  float64       \n",
      " 66  num_il_tl                                1277783 non-null  float64       \n",
      " 67  num_op_rev_tl                            1277783 non-null  float64       \n",
      " 68  num_rev_accts                            1277782 non-null  float64       \n",
      " 69  num_rev_tl_bal_gt_0                      1277783 non-null  float64       \n",
      " 70  num_sats                                 1289469 non-null  float64       \n",
      " 71  num_tl_120dpd_2m                         1227909 non-null  float64       \n",
      " 72  num_tl_30dpd                             1277783 non-null  float64       \n",
      " 73  num_tl_90g_dpd_24m                       1277783 non-null  float64       \n",
      " 74  num_tl_op_past_12m                       1277783 non-null  float64       \n",
      " 75  pct_tl_nvr_dlq                           1277629 non-null  float64       \n",
      " 76  percent_bc_gt_75                         1283755 non-null  float64       \n",
      " 77  pub_rec_bankruptcies                     1346694 non-null  float64       \n",
      " 78  tax_liens                                1347954 non-null  float64       \n",
      " 79  tot_hi_cred_lim                          1277783 non-null  float64       \n",
      " 80  total_bal_ex_mort                        1298029 non-null  float64       \n",
      " 81  total_bc_limit                           1298029 non-null  float64       \n",
      " 82  total_il_high_credit_limit               1277783 non-null  float64       \n",
      " 83  revol_bal_joint                          18629 non-null    float64       \n",
      " 84  sec_app_fico_range_low                   18630 non-null    float64       \n",
      " 85  sec_app_fico_range_high                  18630 non-null    float64       \n",
      " 86  sec_app_earliest_cr_line                 18630 non-null    object        \n",
      " 87  sec_app_inq_last_6mths                   18630 non-null    float64       \n",
      " 88  sec_app_mort_acc                         18630 non-null    float64       \n",
      " 89  sec_app_open_acc                         18630 non-null    float64       \n",
      " 90  sec_app_revol_util                       18302 non-null    float64       \n",
      " 91  sec_app_open_act_il                      18630 non-null    float64       \n",
      " 92  sec_app_num_rev_accts                    18630 non-null    float64       \n",
      " 93  sec_app_chargeoff_within_12_mths         18630 non-null    float64       \n",
      " 94  sec_app_collections_12_mths_ex_med       18630 non-null    float64       \n",
      " 95  sec_app_inv_mths_since_last_major_derog  1348059 non-null  float64       \n",
      " 96  recovered_percentage                     1348059 non-null  float64       \n",
      "dtypes: datetime64[ns](1), float64(86), object(10)\n",
      "memory usage: 1007.9+ MB\n"
     ]
    }
   ],
   "source": [
    "# Adding \"application_type\" to the list of one-hot encoded columns.\n",
    "onehot_coloumns.append(\"application_type\")\n",
    "\n",
    "# Looping through a list of column names that appear in both the joint application and individual application dataframes and replacing the joint application values with the individual application values for applications that are not joint.\n",
    "for joint_col, indiv_col in zip(\n",
    "        [\"annual_inc_joint\", \"dti_joint\", \"verification_status_joint\"],\n",
    "        [\"annual_inc\", \"dti\", \"verification_status\"],\n",
    "):\n",
    "  data[joint_col] = [\n",
    "    joint_val if app_type == \"Joint App\" else indiv_val\n",
    "    for app_type, joint_val, indiv_val in zip(\n",
    "      data[\"application_type\"], data[joint_col], data[indiv_col]\n",
    "    )\n",
    "  ]\n",
    "\n",
    "data.info(verbose=True, show_counts=True)"
   ],
   "metadata": {
    "collapsed": false
   }
  },
  {
   "cell_type": "code",
   "execution_count": 38,
   "outputs": [
    {
     "data": {
      "text/plain": "(1110171, 97)"
     },
     "execution_count": 38,
     "metadata": {},
     "output_type": "execute_result"
    }
   ],
   "source": [
    "cols_to_search = [\n",
    "  col for col in data.columns if col not in new_metric_columns + joint_new_metric_columns\n",
    "]\n",
    "data.dropna(axis=\"index\", subset=cols_to_search).shape"
   ],
   "metadata": {
    "collapsed": false
   }
  },
  {
   "cell_type": "code",
   "execution_count": 39,
   "outputs": [],
   "source": [
    "data.dropna(axis=\"index\", subset=cols_to_search, inplace=True)"
   ],
   "metadata": {
    "collapsed": false
   }
  },
  {
   "cell_type": "code",
   "execution_count": 40,
   "outputs": [
    {
     "data": {
      "text/plain": "        earliest_cr_line sec_app_earliest_cr_line\n0               Aug-2003                      NaN\n1               Dec-1999                      NaN\n2               Aug-2000                      NaN\n4               Jun-1998                      NaN\n5               Oct-1987                      NaN\n...                  ...                      ...\n2260688         Jul-2004                      NaN\n2260690         Mar-2002                      NaN\n2260691         Jun-2011                      NaN\n2260692         Aug-1997                      NaN\n2260697         Jul-1999                      NaN\n\n[1110171 rows x 2 columns]",
      "text/html": "<div>\n<style scoped>\n    .dataframe tbody tr th:only-of-type {\n        vertical-align: middle;\n    }\n\n    .dataframe tbody tr th {\n        vertical-align: top;\n    }\n\n    .dataframe thead th {\n        text-align: right;\n    }\n</style>\n<table border=\"1\" class=\"dataframe\">\n  <thead>\n    <tr style=\"text-align: right;\">\n      <th></th>\n      <th>earliest_cr_line</th>\n      <th>sec_app_earliest_cr_line</th>\n    </tr>\n  </thead>\n  <tbody>\n    <tr>\n      <th>0</th>\n      <td>Aug-2003</td>\n      <td>NaN</td>\n    </tr>\n    <tr>\n      <th>1</th>\n      <td>Dec-1999</td>\n      <td>NaN</td>\n    </tr>\n    <tr>\n      <th>2</th>\n      <td>Aug-2000</td>\n      <td>NaN</td>\n    </tr>\n    <tr>\n      <th>4</th>\n      <td>Jun-1998</td>\n      <td>NaN</td>\n    </tr>\n    <tr>\n      <th>5</th>\n      <td>Oct-1987</td>\n      <td>NaN</td>\n    </tr>\n    <tr>\n      <th>...</th>\n      <td>...</td>\n      <td>...</td>\n    </tr>\n    <tr>\n      <th>2260688</th>\n      <td>Jul-2004</td>\n      <td>NaN</td>\n    </tr>\n    <tr>\n      <th>2260690</th>\n      <td>Mar-2002</td>\n      <td>NaN</td>\n    </tr>\n    <tr>\n      <th>2260691</th>\n      <td>Jun-2011</td>\n      <td>NaN</td>\n    </tr>\n    <tr>\n      <th>2260692</th>\n      <td>Aug-1997</td>\n      <td>NaN</td>\n    </tr>\n    <tr>\n      <th>2260697</th>\n      <td>Jul-1999</td>\n      <td>NaN</td>\n    </tr>\n  </tbody>\n</table>\n<p>1110171 rows × 2 columns</p>\n</div>"
     },
     "execution_count": 40,
     "metadata": {},
     "output_type": "execute_result"
    }
   ],
   "source": [
    "data[[\"earliest_cr_line\", \"sec_app_earliest_cr_line\"]]"
   ],
   "metadata": {
    "collapsed": false
   }
  },
  {
   "cell_type": "code",
   "execution_count": 41,
   "outputs": [
    {
     "name": "stderr",
     "output_type": "stream",
     "text": [
      "/var/folders/d5/hpc31dsx59l4rfyrs6m6yvp00000gn/T/ipykernel_12728/995118449.py:2: UserWarning: Could not infer format, so each element will be parsed individually, falling back to `dateutil`. To ensure parsing is consistent and as-expected, please specify a format.\n",
      "  earliest_cr_line_date = data[col_name].astype(\"datetime64[ns]\")\n"
     ]
    },
    {
     "data": {
      "text/plain": "0          148\n1          192\n2          184\n4          210\n5          338\n          ... \n2260688    147\n2260690    175\n2260691     64\n2260692    230\n2260697    207\nLength: 1110171, dtype: int64"
     },
     "execution_count": 41,
     "metadata": {},
     "output_type": "execute_result"
    }
   ],
   "source": [
    "def get_credit_history_age(col_name):\n",
    "  earliest_cr_line_date = data[col_name].astype(\"datetime64[ns]\")\n",
    "  cr_hist_age_delta = data[\"issue_d\"] - earliest_cr_line_date\n",
    "  MINUTES_PER_MONTH = int(365.25 / 12 * 24 * 60)\n",
    "  cr_hist_age_months = cr_hist_age_delta / np.timedelta64(MINUTES_PER_MONTH, \"m\")\n",
    "  return cr_hist_age_months.map(\n",
    "    lambda value: np.nan if pd.isna(value) else round(value)\n",
    "  )\n",
    "\n",
    "\n",
    "cr_hist_age_months = get_credit_history_age(\"earliest_cr_line\")\n",
    "cr_hist_age_months"
   ],
   "metadata": {
    "collapsed": false
   }
  },
  {
   "cell_type": "code",
   "execution_count": 42,
   "outputs": [
    {
     "name": "stderr",
     "output_type": "stream",
     "text": [
      "/var/folders/d5/hpc31dsx59l4rfyrs6m6yvp00000gn/T/ipykernel_12728/995118449.py:2: UserWarning: Could not infer format, so each element will be parsed individually, falling back to `dateutil`. To ensure parsing is consistent and as-expected, please specify a format.\n",
      "  earliest_cr_line_date = data[col_name].astype(\"datetime64[ns]\")\n"
     ]
    }
   ],
   "source": [
    "data[\"earliest_cr_line\"] = cr_hist_age_months\n",
    "data[\"sec_app_earliest_cr_line\"] = get_credit_history_age(\n",
    "  \"sec_app_earliest_cr_line\"\n",
    ").astype(\"Int64\")\n",
    "data.rename(\n",
    "  columns={\n",
    "    \"earliest_cr_line\": \"cr_hist_age_mths\",\n",
    "    \"sec_app_earliest_cr_line\": \"sec_app_cr_hist_age_mths\",\n",
    "  },\n",
    "  inplace=True,\n",
    ")\n",
    "replace_list_value(\n",
    "  joint_new_metric_columns, \"sec_app_earliest_cr_line\", \"sec_app_cr_hist_age_mths\"\n",
    ")"
   ],
   "metadata": {
    "collapsed": false
   }
  },
  {
   "cell_type": "code",
   "execution_count": 43,
   "outputs": [
    {
     "name": "stdout",
     "output_type": "stream",
     "text": [
      "term\n",
      "36 months    831601\n",
      "60 months    278570\n",
      "Name: term, dtype: int64 \n",
      "\n",
      "emp_length\n",
      "1 year        76868\n",
      "10+ years    392883\n",
      "2 years      106124\n",
      "3 years       93784\n",
      "4 years       69031\n",
      "5 years       72421\n",
      "6 years       54240\n",
      "7 years       52229\n",
      "8 years       53826\n",
      "9 years       45210\n",
      "< 1 year      93555\n",
      "Name: emp_length, dtype: int64 \n",
      "\n",
      "home_ownership\n",
      "ANY            250\n",
      "MORTGAGE    559035\n",
      "NONE            39\n",
      "OTHER           40\n",
      "OWN         114577\n",
      "RENT        436230\n",
      "Name: home_ownership, dtype: int64 \n",
      "\n",
      "verification_status\n",
      "Not Verified       335350\n",
      "Source Verified    463153\n",
      "Verified           311668\n",
      "Name: verification_status, dtype: int64 \n",
      "\n",
      "purpose\n",
      "car                    10754\n",
      "credit_card           245942\n",
      "debt_consolidation    653222\n",
      "home_improvement       71089\n",
      "house                   5720\n",
      "major_purchase         22901\n",
      "medical                12302\n",
      "moving                  7464\n",
      "other                  60987\n",
      "renewable_energy         691\n",
      "small_business         11137\n",
      "vacation                7169\n",
      "wedding                  793\n",
      "Name: purpose, dtype: int64 \n",
      "\n",
      "verification_status_joint\n",
      "Not Verified       341073\n",
      "Source Verified    461941\n",
      "Verified           307157\n",
      "Name: verification_status_joint, dtype: int64 \n"
     ]
    }
   ],
   "source": [
    "categorical_cols = [\"term\", \"emp_length\", \"home_ownership\", \"verification_status\", \"purpose\", \"verification_status_joint\"]\n",
    "for i, col_name in enumerate(categorical_cols):\n",
    "  print(\n",
    "    data.groupby(col_name)[col_name].count(),\n",
    "    \"\\n\" if i < len(categorical_cols) - 1 else \"\",\n",
    "  )"
   ],
   "metadata": {
    "collapsed": false
   }
  },
  {
   "cell_type": "code",
   "execution_count": 44,
   "outputs": [],
   "source": [
    "data.drop(\n",
    "  columns=[\n",
    "    \"verification_status\",\n",
    "    \"verification_status_joint\",\n",
    "    \"issue_d\",\n",
    "    \"loan_status\",\n",
    "  ],\n",
    "  inplace=True,\n",
    ")"
   ],
   "metadata": {
    "collapsed": false
   }
  },
  {
   "cell_type": "code",
   "execution_count": 45,
   "outputs": [],
   "source": [
    "onehot_coloumns += [\"home_ownership\", \"purpose\"]\n",
    "ordinal_cols = {\n",
    "  \"emp_length\": [\n",
    "    \"< 1 year\",\n",
    "    \"1 year\",\n",
    "    \"2 years\",\n",
    "    \"3 years\",\n",
    "    \"4 years\",\n",
    "    \"5 years\",\n",
    "    \"6 years\",\n",
    "    \"7 years\",\n",
    "    \"8 years\",\n",
    "    \"9 years\",\n",
    "    \"10+ years\",\n",
    "  ]\n",
    "}"
   ],
   "metadata": {
    "collapsed": false
   }
  },
  {
   "cell_type": "code",
   "execution_count": 46,
   "outputs": [],
   "source": [
    "data_final = data.drop(columns=new_metric_columns + joint_new_metric_columns)"
   ],
   "metadata": {
    "collapsed": false
   }
  },
  {
   "cell_type": "code",
   "execution_count": 47,
   "outputs": [
    {
     "data": {
      "text/plain": "         il_util  il_util_compute\n0           36.0             36.0\n1           73.0             73.0\n2           73.0             73.0\n4           84.0             84.0\n5           99.0             99.0\n...          ...              ...\n2260688     52.0             39.0\n2260690     50.0             74.0\n2260691     47.0             47.0\n2260692     79.0             79.0\n2260697     78.0             76.0\n\n[408722 rows x 2 columns]",
      "text/html": "<div>\n<style scoped>\n    .dataframe tbody tr th:only-of-type {\n        vertical-align: middle;\n    }\n\n    .dataframe tbody tr th {\n        vertical-align: top;\n    }\n\n    .dataframe thead th {\n        text-align: right;\n    }\n</style>\n<table border=\"1\" class=\"dataframe\">\n  <thead>\n    <tr style=\"text-align: right;\">\n      <th></th>\n      <th>il_util</th>\n      <th>il_util_compute</th>\n    </tr>\n  </thead>\n  <tbody>\n    <tr>\n      <th>0</th>\n      <td>36.0</td>\n      <td>36.0</td>\n    </tr>\n    <tr>\n      <th>1</th>\n      <td>73.0</td>\n      <td>73.0</td>\n    </tr>\n    <tr>\n      <th>2</th>\n      <td>73.0</td>\n      <td>73.0</td>\n    </tr>\n    <tr>\n      <th>4</th>\n      <td>84.0</td>\n      <td>84.0</td>\n    </tr>\n    <tr>\n      <th>5</th>\n      <td>99.0</td>\n      <td>99.0</td>\n    </tr>\n    <tr>\n      <th>...</th>\n      <td>...</td>\n      <td>...</td>\n    </tr>\n    <tr>\n      <th>2260688</th>\n      <td>52.0</td>\n      <td>39.0</td>\n    </tr>\n    <tr>\n      <th>2260690</th>\n      <td>50.0</td>\n      <td>74.0</td>\n    </tr>\n    <tr>\n      <th>2260691</th>\n      <td>47.0</td>\n      <td>47.0</td>\n    </tr>\n    <tr>\n      <th>2260692</th>\n      <td>79.0</td>\n      <td>79.0</td>\n    </tr>\n    <tr>\n      <th>2260697</th>\n      <td>78.0</td>\n      <td>76.0</td>\n    </tr>\n  </tbody>\n</table>\n<p>408722 rows × 2 columns</p>\n</div>"
     },
     "execution_count": 47,
     "metadata": {},
     "output_type": "execute_result"
    }
   ],
   "source": [
    "query_df = data[[\"il_util\", \"total_bal_il\", \"total_il_high_credit_limit\"]].dropna(\n",
    "  axis=\"index\", subset=[\"il_util\"]\n",
    ")\n",
    "query_df[\"il_util_compute\"] = (\n",
    "        query_df[\"total_bal_il\"] / query_df[\"total_il_high_credit_limit\"]\n",
    ").map(lambda x: float(round(x * 100)))\n",
    "query_df[[\"il_util\", \"il_util_compute\"]]"
   ],
   "metadata": {
    "collapsed": false
   }
  },
  {
   "cell_type": "code",
   "execution_count": 48,
   "outputs": [
    {
     "data": {
      "text/plain": "count     408722\nunique         2\ntop         True\nfreq      307589\ndtype: object"
     },
     "execution_count": 48,
     "metadata": {},
     "output_type": "execute_result"
    }
   ],
   "source": [
    "(query_df[\"il_util\"] == query_df[\"il_util_compute\"]).describe()"
   ],
   "metadata": {
    "collapsed": false
   }
  },
  {
   "cell_type": "code",
   "execution_count": 49,
   "outputs": [
    {
     "data": {
      "text/plain": "count    101133.000000\nmean         14.638684\nstd          16.409913\nmin           1.000000\n25%           3.000000\n50%          10.000000\n75%          21.000000\nmax        1108.000000\nName: compute_diff, dtype: float64"
     },
     "execution_count": 49,
     "metadata": {},
     "output_type": "execute_result"
    }
   ],
   "source": [
    "query_df[\"compute_diff\"] = abs(query_df[\"il_util\"] - query_df[\"il_util_compute\"])\n",
    "query_df[\"compute_diff\"][query_df[\"compute_diff\"] != 0].describe()"
   ],
   "metadata": {
    "collapsed": false
   }
  },
  {
   "cell_type": "code",
   "execution_count": 50,
   "outputs": [],
   "source": [
    "data[\"il_util_imputed\"] = [\n",
    "  True if pd.isna(util) & pd.notna(bal) & pd.notna(limit) else False\n",
    "  for util, bal, limit in zip(\n",
    "    data[\"il_util\"], data[\"total_bal_il\"], data[\"total_il_high_credit_limit\"]\n",
    "  )\n",
    "]\n",
    "new_metric_onehot_coloumns = [\"il_util_imputed\"]\n",
    "data[\"il_util\"] = [\n",
    "  0.0\n",
    "  if pd.isna(util) & pd.notna(bal) & (limit == 0)\n",
    "  else float(round(bal / limit * 100))\n",
    "  if pd.isna(util) & pd.notna(bal) & pd.notna(limit)\n",
    "  else util\n",
    "  for util, bal, limit in zip(\n",
    "    data[\"il_util\"], data[\"total_bal_il\"], data[\"total_il_high_credit_limit\"]\n",
    "  )\n",
    "]"
   ],
   "metadata": {
    "collapsed": false
   }
  },
  {
   "cell_type": "code",
   "execution_count": 52,
   "outputs": [
    {
     "name": "stderr",
     "output_type": "stream",
     "text": [
      "2023-04-19 11:42:53.153507: I tensorflow/core/platform/cpu_feature_guard.cc:182] This TensorFlow binary is optimized to use available CPU instructions in performance-critical operations.\n",
      "To enable the following instructions: AVX2 FMA, in other operations, rebuild TensorFlow with the appropriate compiler flags.\n"
     ]
    },
    {
     "name": "stdout",
     "output_type": "stream",
     "text": [
      "Model Result:\n",
      "Epoch 1/10\n",
      "6939/6939 [==============================] - 16s 2ms/step - loss: 0.0275 - val_loss: 0.0235\n",
      "Epoch 2/10\n",
      "6939/6939 [==============================] - 14s 2ms/step - loss: 0.0234 - val_loss: 0.0233\n",
      "Epoch 3/10\n",
      "6939/6939 [==============================] - 15s 2ms/step - loss: 0.0233 - val_loss: 0.0232\n",
      "Epoch 4/10\n",
      "6939/6939 [==============================] - 16s 2ms/step - loss: 0.0233 - val_loss: 0.0232\n",
      "Epoch 5/10\n",
      "6939/6939 [==============================] - 16s 2ms/step - loss: 0.0232 - val_loss: 0.0233\n",
      "Epoch 6/10\n",
      "6939/6939 [==============================] - 14s 2ms/step - loss: 0.0232 - val_loss: 0.0232\n",
      "Epoch 7/10\n",
      "6939/6939 [==============================] - 14s 2ms/step - loss: 0.0232 - val_loss: 0.0231\n",
      "Epoch 8/10\n",
      "6939/6939 [==============================] - 14s 2ms/step - loss: 0.0232 - val_loss: 0.0230\n",
      "Epoch 9/10\n",
      "6939/6939 [==============================] - 14s 2ms/step - loss: 0.0232 - val_loss: 0.0229\n",
      "Epoch 10/10\n",
      "6939/6939 [==============================] - 14s 2ms/step - loss: 0.0231 - val_loss: 0.0230\n"
     ]
    }
   ],
   "source": [
    "from sklearn.model_selection import train_test_split\n",
    "from sklearn_pandas import DataFrameMapper\n",
    "from sklearn.preprocessing import OneHotEncoder, OrdinalEncoder, StandardScaler\n",
    "from tensorflow.keras import Sequential, Input\n",
    "from tensorflow.keras.layers import Dense, Dropout\n",
    "\n",
    "\n",
    "def run_pipeline(\n",
    "        data, onehot_coloumns, ordinal_cols, batch_size, validate=True,\n",
    "):\n",
    "  X = data.drop(columns=[\"recovered_percentage\"])\n",
    "  y = data[\"recovered_percentage\"]\n",
    "  X_train, X_valid, y_train, y_valid = (\n",
    "    train_test_split(X, y, test_size=0.2, random_state=0)\n",
    "    if validate\n",
    "    else (X, None, y, None)\n",
    "  )\n",
    "\n",
    "  transformer = DataFrameMapper(\n",
    "    [\n",
    "      (onehot_coloumns, OneHotEncoder(drop=\"if_binary\")),\n",
    "      (\n",
    "        list(ordinal_cols.keys()),\n",
    "        OrdinalEncoder(categories=list(ordinal_cols.values())),\n",
    "      ),\n",
    "    ],\n",
    "    default=StandardScaler(),\n",
    "  )\n",
    "\n",
    "  X_train = transformer.fit_transform(X_train)\n",
    "  X_valid = transformer.transform(X_valid) if validate else None\n",
    "\n",
    "  input_nodes = X_train.shape[1]\n",
    "  output_nodes = 1\n",
    "\n",
    "  model = Sequential()\n",
    "  model.add(Input((input_nodes,)))\n",
    "  model.add(Dense(64, activation=\"relu\"))\n",
    "  model.add(Dropout(0.3, seed=0))\n",
    "  model.add(Dense(32, activation=\"relu\"))\n",
    "  model.add(Dropout(0.3, seed=1))\n",
    "  model.add(Dense(16, activation=\"relu\"))\n",
    "  model.add(Dropout(0.3, seed=2))\n",
    "  model.add(Dense(output_nodes))\n",
    "  model.compile(optimizer=\"adam\", loss=\"mean_squared_logarithmic_error\")\n",
    "\n",
    "  history = model.fit(\n",
    "    X_train,\n",
    "    y_train,\n",
    "    batch_size=batch_size,\n",
    "    epochs=10,\n",
    "    validation_data=(X_valid, y_valid) if validate else None,\n",
    "    verbose=1,\n",
    "  )\n",
    "\n",
    "  return history.history, model, transformer\n",
    "\n",
    "\n",
    "print(\"Model Result:\")\n",
    "history, final_model, final_transformer = run_pipeline(\n",
    "    data_final, onehot_coloumns, ordinal_cols, batch_size=128,\n",
    ")"
   ],
   "metadata": {
    "collapsed": false
   }
  },
  {
   "cell_type": "code",
   "execution_count": 53,
   "outputs": [
    {
     "data": {
      "text/plain": "<Figure size 640x480 with 1 Axes>",
      "image/png": "[encoded data removed]"
     },
     "metadata": {},
     "output_type": "display_data"
    }
   ],
   "source": [
    "sns.lineplot(x=range(1, 11), y=history[\"loss\"], label=\"loss\")\n",
    "sns.lineplot(x=range(1, 11), y=history[\"val_loss\"], label=\"val_loss\")\n",
    "plt.xlabel(\"epoch\")\n",
    "plt.title(\"Model 1 loss metrics during training\")\n",
    "plt.show()"
   ],
   "metadata": {
    "collapsed": false
   }
  },
  {
   "cell_type": "code",
   "execution_count": 57,
   "outputs": [
    {
     "name": "stderr",
     "output_type": "stream",
     "text": [
      "2023-04-19 11:48:00.788610: I tensorflow/core/common_runtime/executor.cc:1197] [/device:CPU:0] (DEBUG INFO) Executor start aborting (this does not indicate an error and you can ignore this message): INVALID_ARGUMENT: You must feed a value for placeholder tensor 'inputs' with dtype float and shape [?,64]\n",
      "\t [[{{node inputs}}]]\n",
      "2023-04-19 11:48:00.803616: I tensorflow/core/common_runtime/executor.cc:1197] [/device:CPU:0] (DEBUG INFO) Executor start aborting (this does not indicate an error and you can ignore this message): INVALID_ARGUMENT: You must feed a value for placeholder tensor 'inputs' with dtype float and shape [?,32]\n",
      "\t [[{{node inputs}}]]\n",
      "2023-04-19 11:48:00.820538: I tensorflow/core/common_runtime/executor.cc:1197] [/device:CPU:0] (DEBUG INFO) Executor start aborting (this does not indicate an error and you can ignore this message): INVALID_ARGUMENT: You must feed a value for placeholder tensor 'inputs' with dtype float and shape [?,16]\n",
      "\t [[{{node inputs}}]]\n",
      "2023-04-19 11:48:01.051075: I tensorflow/core/common_runtime/executor.cc:1197] [/device:CPU:0] (DEBUG INFO) Executor start aborting (this does not indicate an error and you can ignore this message): INVALID_ARGUMENT: You must feed a value for placeholder tensor 'inputs' with dtype float and shape [?,64]\n",
      "\t [[{{node inputs}}]]\n",
      "2023-04-19 11:48:01.111217: I tensorflow/core/common_runtime/executor.cc:1197] [/device:CPU:0] (DEBUG INFO) Executor start aborting (this does not indicate an error and you can ignore this message): INVALID_ARGUMENT: You must feed a value for placeholder tensor 'inputs' with dtype float and shape [?,32]\n",
      "\t [[{{node inputs}}]]\n",
      "2023-04-19 11:48:01.165168: I tensorflow/core/common_runtime/executor.cc:1197] [/device:CPU:0] (DEBUG INFO) Executor start aborting (this does not indicate an error and you can ignore this message): INVALID_ARGUMENT: You must feed a value for placeholder tensor 'inputs' with dtype float and shape [?,16]\n",
      "\t [[{{node inputs}}]]\n",
      "WARNING:absl:Found untraced functions such as _update_step_xla while saving (showing 1 of 1). These functions will not be directly callable after loading.\n"
     ]
    },
    {
     "name": "stdout",
     "output_type": "stream",
     "text": [
      "INFO:tensorflow:Assets written to: loan_risk_model/assets\n"
     ]
    },
    {
     "name": "stderr",
     "output_type": "stream",
     "text": [
      "INFO:tensorflow:Assets written to: loan_risk_model/assets\n"
     ]
    },
    {
     "data": {
      "text/plain": "['data_transformer.joblib']"
     },
     "execution_count": 57,
     "metadata": {},
     "output_type": "execute_result"
    }
   ],
   "source": [
    "import joblib\n",
    "\n",
    "final_model.save(\"loan_risk_model\")\n",
    "joblib.dump(final_transformer, \"data_transformer.joblib\")"
   ],
   "metadata": {
    "collapsed": false
   }
  },
  {
   "cell_type": "code",
   "execution_count": 58,
   "outputs": [
    {
     "data": {
      "text/plain": "['data_for_eval.joblib']"
     },
     "execution_count": 58,
     "metadata": {},
     "output_type": "execute_result"
    }
   ],
   "source": [
    "# Exports for \"Can I Grade Loans Better than LendingClub?\"\n",
    "expected.rename(\"expected_return\", inplace=True)\n",
    "data_for_eval = data_final.join([data_row[[\"issue_d\", \"grade\", \"sub_grade\"]], expected])\n",
    "joblib.dump(data_for_eval, \"data_for_eval.joblib\")\n",
    "#\n",
    "# # Exports for \"Improving Loan Risk Prediction With Natural Language Processing\"\n",
    "# data_for_nlp = data_final.join(data_row[[\"issue_d\", \"title\", \"desc\"]])\n",
    "# joblib.dump(data_for_nlp, \"data_for_nlp.joblib\")"
   ],
   "metadata": {
    "collapsed": false
   }
  },
  {
   "cell_type": "code",
   "execution_count": null,
   "outputs": [],
   "source": [],
   "metadata": {
    "collapsed": false
   }
  }
 ],
 "metadata": {
  "colab": {
   "collapsed_sections": [],
   "provenance": [],
   "toc_visible": true
  },
  "kernelspec": {
   "display_name": "Python 3.10.7 64-bit",
   "language": "python",
   "name": "python3"
  },
  "language_info": {
   "codemirror_mode": {
    "name": "ipython",
    "version": 3
   },
   "file_extension": ".py",
   "mimetype": "text/x-python",
   "name": "python",
   "nbconvert_exporter": "python",
   "pygments_lexer": "ipython3",
   "version": "3.10.8"
  },
  "vscode": {
   "interpreter": {
    "hash": "aee8b7b246df8f9039afb4144a1f6fd8d2ca17a180786b69acc140d282b71a49"
   }
  }
 },
 "nbformat": 4,
 "nbformat_minor": 0
}
